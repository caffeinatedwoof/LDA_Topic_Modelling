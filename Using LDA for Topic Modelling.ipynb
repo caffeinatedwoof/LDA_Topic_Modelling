{
 "cells": [
  {
   "cell_type": "code",
   "execution_count": null,
   "metadata": {},
   "outputs": [],
   "source": [
    "#pip install -U gensim"
   ]
  },
  {
   "cell_type": "code",
   "execution_count": null,
   "metadata": {},
   "outputs": [],
   "source": [
    "import numpy as np\n",
    "import pandas as pd\n",
    "import nltk\n",
    "from nltk.stem.porter import PorterStemmer\n",
    "from nltk.stem import WordNetLemmatizer\n",
    "nltk.download('wordnet')\n",
    "import gensim\n",
    "from gensim.utils import simple_preprocess\n",
    "from gensim.parsing.preprocessing import STOPWORDS\n",
    "from gensim.models import CoherenceModel\n",
    "import matplotlib.pyplot as plt\n",
    "import matplotlib.ticker as ticker"
   ]
  },
  {
   "cell_type": "markdown",
   "metadata": {},
   "source": [
    "Perform some basic data pre-processing. Note that data has largely been cleaned prior."
   ]
  },
  {
   "cell_type": "code",
   "execution_count": null,
   "metadata": {},
   "outputs": [],
   "source": [
    "#documents = pd.read_csv(\"\")\n",
    "#original = documents\n",
    "#documents = documents[['Created time','Permalink URL','Message','Tag']]\n",
    "#documents = documents.dropna()\n",
    "#documents['Message'] = documents['Message'].astype(\"string\")"
   ]
  },
  {
   "cell_type": "code",
   "execution_count": null,
   "metadata": {},
   "outputs": [],
   "source": [
    "def preprocess(text):\n",
    "    result = []\n",
    "    for token in gensim.utils.simple_preprocess(text):\n",
    "      if token not in gensim.parsing.preprocessing.STOPWORDS and len(token) > 1:\n",
    "        result.append(PorterStemmer().stem(WordNetLemmatizer().lemmatize(token, pos='v')))\n",
    "    return result"
   ]
  },
  {
   "cell_type": "code",
   "execution_count": null,
   "metadata": {},
   "outputs": [],
   "source": [
    "processed_docs = documents['Message'].map(preprocess)\n",
    "processed_docs[:10]"
   ]
  },
  {
   "cell_type": "code",
   "execution_count": null,
   "metadata": {},
   "outputs": [],
   "source": [
    "def remove_none(list_of_words):\n",
    "    if list_of_words is None:\n",
    "        return []\n",
    "    else:\n",
    "        return list_of_words"
   ]
  },
  {
   "cell_type": "code",
   "execution_count": null,
   "metadata": {},
   "outputs": [],
   "source": [
    "processed_docs = processed_docs.apply(remove_none)"
   ]
  },
  {
   "cell_type": "code",
   "execution_count": null,
   "metadata": {},
   "outputs": [],
   "source": [
    "#Remove common words that may not help in identifying useful topics. This is an iterative process.  "
   ]
  },
  {
   "cell_type": "code",
   "execution_count": null,
   "metadata": {},
   "outputs": [],
   "source": [
    "def remove_words(list_of_words):\n",
    "    words_to_remove = ['com','http'] #Example of words to remove\n",
    "    for word in words_to_remove:\n",
    "        if list_of_words is not None:\n",
    "            if word in list_of_words:\n",
    "                list_of_words = list_of_words.remove(word)\n",
    "    return list_of_words"
   ]
  },
  {
   "cell_type": "code",
   "execution_count": null,
   "metadata": {},
   "outputs": [],
   "source": [
    "#Remove missing values if any; remove words that do not help in idenfiying useful topics\n",
    "processed_docs = processed_docs.dropna()\n",
    "processed_docs = processed_docs.apply(remove_words)"
   ]
  },
  {
   "cell_type": "code",
   "execution_count": null,
   "metadata": {},
   "outputs": [],
   "source": [
    "#Sanity check on what our lists of strings look like \n",
    "processed_docs[:10]"
   ]
  },
  {
   "cell_type": "code",
   "execution_count": null,
   "metadata": {},
   "outputs": [],
   "source": [
    "dictionary = gensim.corpora.Dictionary(processed_docs)\n",
    "num_dict_words = 0\n",
    "for dict_index, dict_word in dictionary.iteritems():\n",
    "    #print(dict_index, dict_word)\n",
    "    num_dict_words += 1\n",
    "    if num_dict_words > 50:\n",
    "        break"
   ]
  },
  {
   "cell_type": "code",
   "execution_count": null,
   "metadata": {},
   "outputs": [],
   "source": [
    "bow_corpus = [dictionary.doc2bow(doc) for doc in processed_docs]\n",
    "word_counts = [[(dictionary[id], count) for id, count in line] for line in bow_corpus]\n",
    "#print(word_counts[:10])"
   ]
  },
  {
   "cell_type": "code",
   "execution_count": null,
   "metadata": {},
   "outputs": [],
   "source": [
    "coherence_scores = []\n",
    "for i in range(1, 11):\n",
    "    lda_model = gensim.models.ldamodel.LdaModel(corpus = bow_corpus, num_topics = i, id2word = dictionary, passes = 5, alpha = 'auto', eta = 'auto', iterations = 5, random_state = np.random.seed(1234))\n",
    "    coherence_lda_model = CoherenceModel(model = lda_model, texts = processed_docs, dictionary = dictionary, coherence = 'c_v')\n",
    "    if __name__ == \"__main__\":\n",
    "        coherence = coherence_lda_model.get_coherence()\n",
    "        print(f\"Coherence_v Score for {i} Topics: \", coherence)\n",
    "        coherence_scores.append(coherence)"
   ]
  },
  {
   "cell_type": "code",
   "execution_count": null,
   "metadata": {},
   "outputs": [],
   "source": [
    "#Show coherence scores\n",
    "if len(range(1, 11, 1)) == len(coherence_scores):\n",
    "    tick_spacing = 1\n",
    "    fig, ax = plt.subplots(1,1)\n",
    "    ax.plot(range(1, 11, 1), coherence_scores)\n",
    "    ax.xaxis.set_major_locator(ticker.MultipleLocator(tick_spacing))\n",
    "    ax.set_title(\"LDA using BOW: Topics 1 to 10\")\n",
    "    ax.set_xlabel(\"Number of Topics\")\n",
    "    ax.set_ylabel(\"Coherence Scores\")\n",
    "    plt.show()\n",
    "else:\n",
    "    pass"
   ]
  },
  {
   "cell_type": "code",
   "execution_count": null,
   "metadata": {},
   "outputs": [],
   "source": [
    "#Generate results \n",
    "lda_model = gensim.models.ldamodel.LdaModel(corpus = bow_corpus, num_topics = 6, id2word = dictionary, passes = 5, alpha = 'auto', eta = 'auto', iterations = 5, random_state = np.random.seed(1234))\n",
    "for idx, topic in lda_model.show_topics(num_words = 10):\n",
    "    print('Topic {}: Words are {}'.format(idx, topic))"
   ]
  }
 ],
 "metadata": {
  "kernelspec": {
   "display_name": "Python 3",
   "language": "python",
   "name": "python3"
  },
  "language_info": {
   "codemirror_mode": {
    "name": "ipython",
    "version": 3
   },
   "file_extension": ".py",
   "mimetype": "text/x-python",
   "name": "python",
   "nbconvert_exporter": "python",
   "pygments_lexer": "ipython3",
   "version": "3.8.3"
  }
 },
 "nbformat": 4,
 "nbformat_minor": 4
}
